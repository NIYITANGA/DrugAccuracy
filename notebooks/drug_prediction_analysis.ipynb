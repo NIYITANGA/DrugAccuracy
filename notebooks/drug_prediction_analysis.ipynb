{
 "cells": [
  {
   "cell_type": "markdown",
   "metadata": {},
   "source": [
    "# Drug Prediction Model - Interactive Analysis\n",
    "\n",
    "**Author**: TNT  \n",
    "**Version**: 1.0  \n",
    "**Date**: August 2025\n",
    "\n",
    "This notebook provides an interactive walkthrough of building a machine learning model to predict drug outcomes for patients based on their medical characteristics.\n",
    "\n",
    "## 📋 Table of Contents\n",
    "1. [Data Loading and Exploration](#1-data-loading-and-exploration)\n",
    "2. [Data Preprocessing](#2-data-preprocessing)\n",
    "3. [Exploratory Data Analysis](#3-exploratory-data-analysis)\n",
    "4. [Model Training](#4-model-training)\n",
    "5. [Model Evaluation](#5-model-evaluation)\n",
    "6. [Feature Importance Analysis](#6-feature-importance-analysis)\n",
    "7. [Predictions and Results](#7-predictions-and-results)\n",
    "8. [Conclusions](#8-conclusions)"
   ]
  },
  {
   "cell_type": "markdown",
   "metadata": {},
   "source": [
    "## 1. Data Loading and Exploration\n",
    "\n",
    "Let's start by importing the necessary libraries and loading our dataset."
   ]
  },
  {
   "cell_type": "code",
   "execution_count": null,
   "metadata": {},
   "outputs": [],
   "source": [
    "# Import necessary libraries\n",
    "import pandas as pd\n",
    "import numpy as np\n",
    "import matplotlib.pyplot as plt\n",
    "import seaborn as sns\n",
    "from sklearn.model_selection import train_test_split\n",
    "from sklearn.preprocessing import LabelEncoder\n",
    "from sklearn.ensemble import RandomForestClassifier\n",
    "from sklearn.tree import DecisionTreeClassifier\n",
    "from sklearn.metrics import classification_report, confusion_matrix, accuracy_score\n",
    "from sklearn.metrics import precision_score, recall_score, f1_score\n",
    "import warnings\n",
    "warnings.filterwarnings('ignore')\n",
    "\n",
    "# Set plotting style\n",
    "plt.style.use('default')\n",
    "sns.set_palette(\"husl\")\n",
    "\n",
    "print(\"Libraries imported successfully!\")"
   ]
  },
  {
   "cell_type": "code",
   "execution_count": null,
   "metadata": {},
   "outputs": [],
   "source": [
    "# Load the dataset\n",
    "df = pd.read_csv('../data/drug200.csv')\n",
    "\n",
    "print(\"Dataset loaded successfully!\")\n",
    "print(f\"Dataset shape: {df.shape}\")\n",
    "print(f\"Columns: {list(df.columns)}\")"
   ]
  },
  {
   "cell_type": "code",
   "execution_count": null,
   "metadata": {},
   "outputs": [],
   "source": [
    "# Display first few rows\n",
    "print(\"First 10 rows of the dataset:\")\n",
    "df.head(10)"
   ]
  },
  {
   "cell_type": "code",
   "execution_count": null,
   "metadata": {},
   "outputs": [],
   "source": [
    "# Basic information about the dataset\n",
    "print(\"Dataset Information:\")\n",
    "print(\"=\" * 50)\n",
    "df.info()\n",
    "\n",
    "print(\"\\nDataset Description:\")\n",
    "print(\"=\" * 50)\n",
    "df.describe()"
   ]
  },
  {
   "cell_type": "code",
   "execution_count": null,
   "metadata": {},
   "outputs": [],
   "source": [
    "# Check for missing values\n",
    "print(\"Missing values in each column:\")\n",
    "print(\"=\" * 30)\n",
    "missing_values = df.isnull().sum()\n",
    "print(missing_values)\n",
    "\n",
    "if missing_values.sum() == 0:\n",
    "    print(\"\\n✅ Great! No missing values found in the dataset.\")\n",
    "else:\n",
    "    print(f\"\\n⚠️ Found {missing_values.sum()} missing values that need to be handled.\")"
   ]
  },
  {
   "cell_type": "markdown",
   "metadata": {},
   "source": [
    "## 2. Data Preprocessing\n",
    "\n",
    "Now let's examine the categorical variables and prepare them for machine learning."
   ]
  },
  {
   "cell_type": "code",
   "execution_count": null,
   "metadata": {},
   "outputs": [],
   "source": [
    "# Examine unique values in categorical columns\n",
    "categorical_columns = ['Sex', 'BP', 'Cholesterol', 'Drug']\n",
    "\n",
    "for col in categorical_columns:\n",
    "    print(f\"\\n{col} - Unique values:\")\n",
    "    print(f\"Count: {df[col].nunique()}\")\n",
    "    print(f\"Values: {df[col].unique()}\")\n",
    "    print(f\"Distribution:\\n{df[col].value_counts()}\")\n",
    "    print(\"-\" * 40)"
   ]
  },
  {
   "cell_type": "code",
   "execution_count": null,
   "metadata": {},
   "outputs": [],
   "source": [
    "# Create a copy for preprocessing\n",
    "df_processed = df.copy()\n",
    "\n",
    "# Initialize label encoders\n",
    "label_encoders = {}\n",
    "\n",
    "# Encode categorical variables\n",
    "categorical_features = ['Sex', 'BP', 'Cholesterol']\n",
    "\n",
    "for feature in categorical_features:\n",
    "    le = LabelEncoder()\n",
    "    df_processed[f'{feature}_encoded'] = le.fit_transform(df_processed[feature])\n",
    "    label_encoders[feature] = le\n",
    "    \n",
    "    print(f\"{feature} encoding:\")\n",
    "    for i, class_name in enumerate(le.classes_):\n",
    "        print(f\"  {class_name} -> {i}\")\n",
    "    print()\n",
    "\n",
    "# Encode target variable\n",
    "le_drug = LabelEncoder()\n",
    "df_processed['Drug_encoded'] = le_drug.fit_transform(df_processed['Drug'])\n",
    "label_encoders['Drug'] = le_drug\n",
    "\n",
    "print(\"Drug (Target) encoding:\")\n",
    "for i, class_name in enumerate(le_drug.classes_):\n",
    "    print(f\"  {class_name} -> {i}\")\n",
    "\n",
    "print(\"\\n✅ All categorical variables encoded successfully!\")"
   ]
  },
  {
   "cell_type": "markdown",
   "metadata": {},
   "source": [
    "## 3. Exploratory Data Analysis\n",
    "\n",
    "Let's visualize our data to better understand the patterns and relationships."
   ]
  },
  {
   "cell_type": "code",
   "execution_count": null,
   "metadata": {},
   "outputs": [],
   "source": [
    "# Create comprehensive visualizations\n",
    "fig, axes = plt.subplots(2, 3, figsize=(18, 12))\n",
    "fig.suptitle('Drug Dataset - Exploratory Data Analysis', fontsize=16, fontweight='bold')\n",
    "\n",
    "# 1. Target variable distribution\n",
    "drug_counts = df['Drug'].value_counts()\n",
    "axes[0, 0].pie(drug_counts.values, labels=drug_counts.index, autopct='%1.1f%%', startangle=90)\n",
    "axes[0, 0].set_title('Drug Distribution')\n",
    "\n",
    "# 2. Age distribution\n",
    "axes[0, 1].hist(df['Age'], bins=15, alpha=0.7, color='skyblue', edgecolor='black')\n",
    "axes[0, 1].set_title('Age Distribution')\n",
    "axes[0, 1].set_xlabel('Age')\n",
    "axes[0, 1].set_ylabel('Frequency')\n",
    "\n",
    "# 3. Na_to_K distribution\n",
    "axes[0, 2].hist(df['Na_to_K'], bins=15, alpha=0.7, color='lightgreen', edgecolor='black')\n",
    "axes[0, 2].set_title('Na_to_K Ratio Distribution')\n",
    "axes[0, 2].set_xlabel('Na_to_K Ratio')\n",
    "axes[0, 2].set_ylabel('Frequency')\n",
    "\n",
    "# 4. Sex distribution\n",
    "sex_counts = df['Sex'].value_counts()\n",
    "axes[1, 0].bar(sex_counts.index, sex_counts.values, color=['pink', 'lightblue'])\n",
    "axes[1, 0].set_title('Sex Distribution')\n",
    "axes[1, 0].set_ylabel('Count')\n",
    "\n",
    "# 5. Blood Pressure distribution\n",
    "bp_counts = df['BP'].value_counts()\n",
    "axes[1, 1].bar(bp_counts.index, bp_counts.values, color=['red', 'orange', 'green'])\n",
    "axes[1, 1].set_title('Blood Pressure Distribution')\n",
    "axes[1, 1].set_ylabel('Count')\n",
    "axes[1, 1].tick_params(axis='x', rotation=45)\n",
    "\n",
    "# 6. Cholesterol distribution\n",
    "chol_counts = df['Cholesterol'].value_counts()\n",
    "axes[1, 2].bar(chol_counts.index, chol_counts.values, color=['lightcoral', 'lightseagreen'])\n",
    "axes[1, 2].set_title('Cholesterol Distribution')\n",
    "axes[1, 2].set_ylabel('Count')\n",
    "\n",
    "plt.tight_layout()\n",
    "plt.show()"
   ]
  },
  {
   "cell_type": "code",
   "execution_count": null,
   "metadata": {},
   "outputs": [],
   "source": [
    "# Correlation analysis\n",
    "plt.figure(figsize=(10, 8))\n",
    "\n",
    "# Select numeric columns for correlation\n",
    "numeric_cols = ['Age', 'Sex_encoded', 'BP_encoded', 'Cholesterol_encoded', 'Na_to_K', 'Drug_encoded']\n",
    "correlation_matrix = df_processed[numeric_cols].corr()\n",
    "\n",
    "# Create heatmap\n",
    "sns.heatmap(correlation_matrix, annot=True, cmap='coolwarm', center=0, \n",
    "            square=True, linewidths=0.5, cbar_kws={\"shrink\": .8})\n",
    "plt.title('Feature Correlation Matrix', fontsize=14, fontweight='bold')\n",
    "plt.tight_layout()\n",
    "plt.show()\n",
    "\n",
    "print(\"Correlation insights:\")\n",
    "print(\"- Values close to 1 or -1 indicate strong correlation\")\n",
    "print(\"- Values close to 0 indicate weak correlation\")"
   ]
  },
  {
   "cell_type": "markdown",
   "metadata": {},
   "source": [
    "## 4. Model Training\n",
    "\n",
    "Now let's prepare our features and train machine learning models."
   ]
  },
  {
   "cell_type": "code",
   "execution_count": null,
   "metadata": {},
   "outputs": [],
   "source": [
    "# Prepare features and target\n",
    "feature_columns = ['Age', 'Sex_encoded', 'BP_encoded', 'Cholesterol_encoded', 'Na_to_K']\n",
    "X = df_processed[feature_columns]\n",
    "y = df_processed['Drug_encoded']\n",
    "\n",
    "print(f\"Feature matrix shape: {X.shape}\")\n",
    "print(f\"Target vector shape: {y.shape}\")\n",
    "print(f\"\\nFeatures: {feature_columns}\")\n",
    "print(f\"Target classes: {list(le_drug.classes_)}\")"
   ]
  },
  {
   "cell_type": "code",
   "execution_count": null,
   "metadata": {},
   "outputs": [],
   "source": [
    "# Split the data\n",
    "X_train, X_test, y_train, y_test = train_test_split(\n",
    "    X, y, test_size=0.2, random_state=42, stratify=y\n",
    ")\n",
    "\n",
    "print(f\"Training set: {X_train.shape[0]} samples\")\n",
    "print(f\"Test set: {X_test.shape[0]} samples\")"
   ]
  },
  {
   "cell_type": "code",
   "execution_count": null,
   "metadata": {},
   "outputs": [],
   "source": [
    "# Train models\n",
    "print(\"Training machine learning models...\")\n",
    "print(\"=\" * 50)\n",
    "\n",
    "# Random Forest\n",
    "print(\"1. Training Random Forest Classifier...\")\n",
    "rf_model = RandomForestClassifier(n_estimators=100, random_state=42)\n",
    "rf_model.fit(X_train, y_train)\n",
    "print(\"   ✅ Random Forest training completed\")\n",
    "\n",
    "# Decision Tree\n",
    "print(\"2. Training Decision Tree Classifier...\")\n",
    "dt_model = DecisionTreeClassifier(random_state=42)\n",
    "dt_model.fit(X_train, y_train)\n",
    "print(\"   ✅ Decision Tree training completed\")\n",
    "\n",
    "print(\"\\n🎉 All models trained successfully!\")"
   ]
  },
  {
   "cell_type": "markdown",
   "metadata": {},
   "source": [
    "## 5. Model Evaluation\n",
    "\n",
    "Let's evaluate our models and compare their performance."
   ]
  },
  {
   "cell_type": "code",
   "execution_count": null,
   "metadata": {},
   "outputs": [],
   "source": [
    "# Make predictions\n",
    "rf_predictions = rf_model.predict(X_test)\n",
    "dt_predictions = dt_model.predict(X_test)\n",
    "\n",
    "# Function to evaluate models\n",
    "def evaluate_model(y_true, y_pred, model_name):\n",
    "    accuracy = accuracy_score(y_true, y_pred)\n",
    "    precision = precision_score(y_true, y_pred, average='weighted')\n",
    "    recall = recall_score(y_true, y_pred, average='weighted')\n",
    "    f1 = f1_score(y_true, y_pred, average='weighted')\n",
    "    \n",
    "    print(f\"\\n{model_name} Performance:\")\n",
    "    print(f\"{'='*30}\")\n",
    "    print(f\"Accuracy:  {accuracy:.4f} ({accuracy:.1%})\")\n",
    "    print(f\"Precision: {precision:.4f}\")\n",
    "    print(f\"Recall:    {recall:.4f}\")\n",
    "    print(f\"F1-Score:  {f1:.4f}\")\n",
    "    \n",
    "    return {\n",
    "        'model': model_name,\n",
    "        'accuracy': accuracy,\n",
    "        'precision': precision,\n",
    "        'recall': recall,\n",
    "        'f1_score': f1\n",
    "    }\n",
    "\n",
    "# Evaluate both models\n",
    "rf_results = evaluate_model(y_test, rf_predictions, \"Random Forest\")\n",
    "dt_results = evaluate_model(y_test, dt_predictions, \"Decision Tree\")"
   ]
  },
  {
   "cell_type": "code",
   "execution_count": null,
   "metadata": {},
   "outputs": [],
   "source": [
    "# Detailed classification reports\n",
    "print(\"\\nDetailed Classification Reports:\")\n",
    "print(\"=\" * 50)\n",
    "\n",
    "print(\"\\n🌲 Random Forest Classification Report:\")\n",
    "print(\"-\" * 45)\n",
    "print(classification_report(y_test, rf_predictions, target_names=le_drug.classes_))\n",
    "\n",
    "print(\"\\n🌳 Decision Tree Classification Report:\")\n",
    "print(\"-\" * 45)\n",
    "print(classification_report(y_test, dt_predictions, target_names=le_drug.classes_))"
   ]
  },
  {
   "cell_type": "markdown",
   "metadata": {},
   "source": [
    "## 6. Feature Importance Analysis\n",
    "\n",
    "Let's analyze which features are most important for drug prediction."
   ]
  },
  {
   "cell_type": "code",
   "execution_count": null,
   "metadata": {},
   "outputs": [],
   "source": [
    "# Feature importance analysis\n",
    "feature_names = ['Age', 'Sex', 'BP', 'Cholesterol', 'Na_to_K']\n",
    "\n",
    "# Get feature importance from both models\n",
    "rf_importance = rf_model.feature_importances_\n",
    "dt_importance = dt_model.feature_importances_\n",
    "\n",
    "print(\"Feature Importance Analysis:\")\n",
    "print(\"=\" * 50)\n",
    "\n",
    "print(\"\\n🌲 Random Forest Feature Importance:\")\n",
    "rf_feature_importance = list(zip(feature_names, rf_importance))\n",
    "rf_feature_importance.sort(key=lambda x: x[1], reverse=True)\n",
    "\n",
    "for i, (feature, importance) in enumerate(rf_feature_importance, 1):\n",
    "    print(f\"{i}. {feature:12} : {importance:.4f} ({importance:.1%})\")\n",
    "\n",
    "print(\"\\n🌳 Decision Tree Feature Importance:\")\n",
    "dt_feature_importance = list(zip(feature_names, dt_importance))\n",
    "dt_feature_importance.sort(key=lambda x: x[1], reverse=True)\n",
    "\n",
    "for i, (feature, importance) in enumerate(dt_feature_importance, 1):\n",
    "    print(f\"{i}. {feature:12} : {importance:.4f} ({importance:.1%})\")"
   ]
  },
  {
   "cell_type": "code",
   "execution_count": null,
   "metadata": {},
   "outputs": [],
   "source": [
    "# Visualize feature importance comparison\n",
    "plt.figure(figsize=(12, 8))\n",
    "\n",
    "x_pos = np.arange(len(feature_names))\n",
    "width = 0.35\n",
    "\n",
    "plt.bar(x_pos - width/2, rf_importance, width, label='Random Forest', alpha=0.8, color='skyblue')\n",
    "plt.bar(x_pos + width/2, dt_importance, width, label='Decision Tree', alpha=0.8, color='lightcoral')\n",
    "\n",
    "plt.xlabel('Features', fontsize=12)\n",
    "plt.ylabel('Importance Score', fontsize=12)\n",
    "plt.title('Feature Importance Comparison Between Models', fontsize=14, fontweight='bold')\n",
    "plt.xticks(x_pos, feature_names, rotation=45)\n",
    "plt.legend()\n",
    "plt.grid(axis='y', alpha=0.3)\n",
    "\n",
    "# Add value labels\n",
    "for i, (rf_imp, dt_imp) in enumerate(zip(rf_importance, dt_importance)):\n",
    "    plt.text(i - width/2, rf_imp + 0.01, f'{rf_imp:.3f}', ha='center', va='bottom', fontsize=9)\n",
    "    plt.text(i + width/2, dt_imp + 0.01, f'{dt_imp:.3f}', ha='center', va='bottom', fontsize=9)\n",
    "\n",
    "plt.tight_layout()\n",
    "plt.show()\n",
    "\n",
    "print(\"\\n🔍 Key Insights:\")\n",
    "print(f\"• Most important feature: {rf_feature_importance[0][0]} ({rf_feature_importance[0][1]:.1%})\")\n",
    "print(f\"• Second most important: {rf_feature_importance[1][0]} ({rf_feature_importance[1][1]:.1%})\")\n",
    "print(f\"• Third most important: {rf_feature_importance[2][0]} ({rf_feature_importance[2][1]:.1%})\")"
   ]
  },
  {
   "cell_type": "markdown",
   "metadata": {},
   "source": [
    "## 7. Predictions and Results\n",
    "\n",
    "Let's test our model with some example predictions."
   ]
  },
  {
   "cell_type": "code",
   "execution_count": null,
   "metadata": {},
   "outputs": [],
   "source": [
    "# Example predictions\n",
    "def predict_drug_example(age, sex, bp, cholesterol, na_to_k):\n",
    "    # Encode the input\n",
    "    sex_encoded = label_encoders['Sex'].transform([sex])[0]\n",
    "    bp_encoded = label_encoders['BP'].transform([bp])[0]\n",
    "    chol_encoded = label_encoders['Cholesterol'].transform([cholesterol])[0]\n",
    "    \n",
    "    # Make prediction\n",
    "    features = np.array([[age, sex_encoded, bp_encoded, chol_encoded, na_to_k]])\n",
    "    prediction_encoded = rf_model.predict(features)[0]\n",
    "    prediction_proba = rf_model.predict_proba(features)[0]\n",
    "    \n",
    "    # Decode prediction\n",
    "    predicted_drug = label_encoders['Drug'].inverse_transform([prediction_encoded])[0]\n",
    "    confidence = max(prediction_proba)\n",
    "    \n",
    "    return predicted_drug, confidence\n",
    "\n",
    "# Test cases\n",
    "test_cases = [\n",
    "    (25, 'F', 'HIGH', 'HIGH', 25.0),\n",
    "    (50, 'M', 'LOW', 'NORMAL', 15.0),\n",
    "    (35, 'F', 'NORMAL', 'HIGH', 10.0),\n",
    "    (65, 'M', 'HIGH', 'HIGH', 20.0)\n",
    "]\n",
    "\n",
    "print(\"Sample Predictions:\")\n",
    "print(\"=\" * 60)\n",
    "for i, (age, sex, bp, chol, na_k) in enumerate(test_cases, 1):\n",
    "    predicted, confidence = predict_drug_example(age, sex, bp, chol, na_k)\n",
    "    print(f\"\\nPatient {i}:\")\n",
    "    print(f\"  Age: {age}, Sex: {sex}, BP: {bp}, Cholesterol: {chol}, Na_to_K: {na_k}\")\n",
    "    print(f\"  Predicted Drug: {predicted} (Confidence: {confidence:.1%})\")"
   ]
  },
  {
   "cell_type": "markdown",
   "metadata": {},
   "source": [
    "## 8. Conclusions\n",
    "\n",
    "### Key Findings:\n",
    "\n",
    "1. **High Model Accuracy**: Both Random Forest and Decision Tree achieved 97.5% accuracy\n",
    "2. **Feature Importance**: Na_to_K ratio is the most critical factor (54.6% importance)\n",
    "3. **Blood Pressure Impact**: Second most important feature (24.8% importance)\n",
    "4. **Age Relevance**: Moderate importance (13.6%) in drug selection\n",
    "5. **Gender Impact**: Minimal influence (1.6%) on drug choice\n",
    "\n",
    "### Model Performance:\n",
    "- **Accuracy**: 97.5%\n",
    "- **Precision**: 97.6%\n",
    "- **Recall**: 97.5%\n",
    "- **F1-Score**: 97.5%\n",
    "\n",
    "### Clinical Insights:\n",
    "- Sodium-to-Potassium ratio is the primary biomarker for drug selection\n",
    "- Blood pressure status significantly influences treatment decisions\n",
    "- Patient age should be considered but is less critical than biochemical markers\n",
    "- Gender-based treatment differences are minimal in this dataset\n",
    "\n",
    "### Next Steps:\n",
    "1. Validate model with larger datasets\n",
    "2. Implement cross-validation for robust evaluation\n",
    "3. Consider hyperparameter tuning\n",
    "4. Deploy model for clinical decision support\n",
    "5. Gather feedback from healthcare professionals\n",
    "\n",
    "---\n",
    "\n",
    "**Note**: This model is for educational purposes and should not be used for actual medical decisions without proper clinical validation and healthcare professional oversight."
   ]
  }
 ],
 "metadata": {
  "kernelspec": {
   "display_name": "Python 3",
   "language": "python",
   "name": "python3"
  },
  "language_info": {
   "codemirror_mode": {
    "name": "ipython",
    "version": 3
   },
   "file_extension": ".py",
   "name": "python",
   "nbconvert_exporter": "python",
   "pygments_lexer": "ipython3",
   "version": "3.8.5"
  }
 },
 "nbformat": 4,
 "nbformat_minor": 4
}
